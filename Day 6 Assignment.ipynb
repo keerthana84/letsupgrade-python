{
 "cells": [
  {
   "cell_type": "markdown",
   "metadata": {},
   "source": [
    "# Assignment 1"
   ]
  },
  {
   "cell_type": "code",
   "execution_count": 19,
   "metadata": {},
   "outputs": [],
   "source": [
    "class bankacc():\n",
    "    def __init__(self,name,balance):\n",
    "        self.name=name\n",
    "        self.balance=balance\n",
    "    def deposit(self,d):\n",
    "        self.balance+=d\n",
    "        print(\"you have deposited\"+\" \"+str(d)+\" \"+\"to your account\")\n",
    "        print(\"your current balance is\",self.balance)\n",
    "    def withdraw(self,w):\n",
    "        if w>self.balance:\n",
    "            return \"you have insufficient balnce\"\n",
    "        else:\n",
    "            self.balance-=w\n",
    "            print(\"you withdrawl amount is\"+\" \"+str(w)+\" \"+\"yourcurrent bal is\"+str(self.balance))"
   ]
  },
  {
   "cell_type": "code",
   "execution_count": 24,
   "metadata": {},
   "outputs": [
    {
     "name": "stdout",
     "output_type": "stream",
     "text": [
      "you have deposited 3000 to your account\n",
      "your current balance is 8000\n"
     ]
    }
   ],
   "source": [
    "acc=bankacc(\"abeer\",5000)\n",
    "acc.deposit(3000)\n"
   ]
  },
  {
   "cell_type": "code",
   "execution_count": 25,
   "metadata": {},
   "outputs": [
    {
     "name": "stdout",
     "output_type": "stream",
     "text": [
      "you withdrawl amount is 1000 yourcurrent bal is7000\n"
     ]
    }
   ],
   "source": [
    "acc.withdraw(1000)"
   ]
  },
  {
   "cell_type": "markdown",
   "metadata": {},
   "source": [
    "# Assignment 2"
   ]
  },
  {
   "cell_type": "code",
   "execution_count": 27,
   "metadata": {},
   "outputs": [],
   "source": [
    "import math\n",
    "class cone():\n",
    "    def __init__(self,radius,height):\n",
    "        self.radius=radius\n",
    "        self.height=height\n",
    "    def volume(self):\n",
    "        vol= 1/3*3.14*(self.radius**2)*self.height\n",
    "        return vol\n",
    "    def surfacearea(self):\n",
    "        sa=3.14*self.radius*(self.radius+math.sqrt(self.height**2+self.radius**2))\n",
    "        return sa"
   ]
  },
  {
   "cell_type": "code",
   "execution_count": 30,
   "metadata": {},
   "outputs": [
    {
     "data": {
      "text/plain": [
       "157.0"
      ]
     },
     "execution_count": 30,
     "metadata": {},
     "output_type": "execute_result"
    }
   ],
   "source": [
    "res=cone(5,6)\n",
    "res.volume()\n"
   ]
  },
  {
   "cell_type": "code",
   "execution_count": 32,
   "metadata": {},
   "outputs": [
    {
     "data": {
      "text/plain": [
       "201.1209199117345"
      ]
     },
     "execution_count": 32,
     "metadata": {},
     "output_type": "execute_result"
    }
   ],
   "source": [
    "res.surfacearea()"
   ]
  },
  {
   "cell_type": "code",
   "execution_count": null,
   "metadata": {},
   "outputs": [],
   "source": []
  }
 ],
 "metadata": {
  "kernelspec": {
   "display_name": "Python 3",
   "language": "python",
   "name": "python3"
  },
  "language_info": {
   "codemirror_mode": {
    "name": "ipython",
    "version": 3
   },
   "file_extension": ".py",
   "mimetype": "text/x-python",
   "name": "python",
   "nbconvert_exporter": "python",
   "pygments_lexer": "ipython3",
   "version": "3.8.3"
  }
 },
 "nbformat": 4,
 "nbformat_minor": 4
}
