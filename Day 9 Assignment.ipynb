{
 "cells": [
  {
   "cell_type": "markdown",
   "metadata": {},
   "source": [
    "# Assignment 1"
   ]
  },
  {
   "cell_type": "code",
   "execution_count": 21,
   "metadata": {},
   "outputs": [
    {
     "name": "stdout",
     "output_type": "stream",
     "text": [
      "Overwriting primecheck.py\n"
     ]
    }
   ],
   "source": [
    "%%writefile primecheck.py\n",
    "'''another test comment'''\n",
    "def prime(num):\n",
    "    ''' This is check prime function'''\n",
    "    if num > 1:\n",
    "        for i in range(2, num):\n",
    "            if(num % i) == 0:\n",
    "                print(num, \"is not a prime number\")\n",
    "            else:\n",
    "                print(num, \"is  a prime number\")\n",
    "    else:\n",
    "        print(num, \"is not a prime number\")"
   ]
  },
  {
   "cell_type": "code",
   "execution_count": 22,
   "metadata": {},
   "outputs": [
    {
     "name": "stdout",
     "output_type": "stream",
     "text": [
      "\n",
      "-------------------------------------------------------------------\n",
      "\n",
      "Your code has been rated at 10.00/10 (previous run: 5.71/10, +4.29)\n",
      "\n",
      "\n",
      "\n"
     ]
    }
   ],
   "source": [
    "! pylint \"primecheck.py\""
   ]
  },
  {
   "cell_type": "markdown",
   "metadata": {},
   "source": [
    "# Assignment 2"
   ]
  },
  {
   "cell_type": "code",
   "execution_count": 40,
   "metadata": {},
   "outputs": [],
   "source": [
    "def armsck(num):\n",
    "    sum=0\n",
    "    temp=num\n",
    "    while temp > 0:\n",
    "        r=temp % 10\n",
    "        sum+=r**3\n",
    "        temp //= 10\n",
    "    if num == sum:\n",
    "        return num\n",
    "    "
   ]
  },
  {
   "cell_type": "code",
   "execution_count": 43,
   "metadata": {},
   "outputs": [
    {
     "data": {
      "text/plain": [
       "153"
      ]
     },
     "execution_count": 43,
     "metadata": {},
     "output_type": "execute_result"
    }
   ],
   "source": [
    "armsck(153)"
   ]
  },
  {
   "cell_type": "code",
   "execution_count": 45,
   "metadata": {},
   "outputs": [],
   "source": [
    "lst=list(range(1,1001))"
   ]
  },
  {
   "cell_type": "code",
   "execution_count": 47,
   "metadata": {},
   "outputs": [],
   "source": [
    "def armsckgen(lst):\n",
    "    for item in lst:\n",
    "        sum=0\n",
    "        temp=item\n",
    "        while temp > 0:\n",
    "            r=temp % 10\n",
    "            sum+= r**3\n",
    "            temp //= 10\n",
    "        if item == sum:\n",
    "            yield item\n",
    "      "
   ]
  },
  {
   "cell_type": "code",
   "execution_count": 48,
   "metadata": {},
   "outputs": [
    {
     "name": "stdout",
     "output_type": "stream",
     "text": [
      "[1, 153, 370, 371, 407]\n"
     ]
    }
   ],
   "source": [
    "print(list(armsckgen(lst)))  "
   ]
  },
  {
   "cell_type": "code",
   "execution_count": null,
   "metadata": {},
   "outputs": [],
   "source": []
  }
 ],
 "metadata": {
  "kernelspec": {
   "display_name": "Python 3",
   "language": "python",
   "name": "python3"
  },
  "language_info": {
   "codemirror_mode": {
    "name": "ipython",
    "version": 3
   },
   "file_extension": ".py",
   "mimetype": "text/x-python",
   "name": "python",
   "nbconvert_exporter": "python",
   "pygments_lexer": "ipython3",
   "version": "3.8.3"
  }
 },
 "nbformat": 4,
 "nbformat_minor": 4
}
